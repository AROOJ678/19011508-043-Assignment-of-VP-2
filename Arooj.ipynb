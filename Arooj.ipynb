{
  "nbformat": 4,
  "nbformat_minor": 0,
  "metadata": {
    "colab": {
      "name": "Arooj",
      "provenance": [],
      "authorship_tag": "ABX9TyMH9riE2sp1zJrt2p8WvU7j",
      "include_colab_link": true
    },
    "kernelspec": {
      "name": "python3",
      "display_name": "Python 3"
    },
    "language_info": {
      "name": "python"
    }
  },
  "cells": [
    {
      "cell_type": "markdown",
      "metadata": {
        "id": "view-in-github",
        "colab_type": "text"
      },
      "source": [
        "<a href=\"https://colab.research.google.com/github/AROOJ678/19011508-043-Assignment-of-VP-2/blob/main/Arooj.ipynb\" target=\"_parent\"><img src=\"https://colab.research.google.com/assets/colab-badge.svg\" alt=\"Open In Colab\"/></a>"
      ]
    },
    {
      "cell_type": "code",
      "metadata": {
        "colab": {
          "base_uri": "https://localhost:8080/"
        },
        "id": "s4FyHETifqx3",
        "outputId": "b5ddb1ab-17d5-4d62-bf94-3107cde3c7d6"
      },
      "source": [
        " \n",
        "from math import pi\n",
        "arooj = float(input (\"Input the radius of the circle : \"))\n",
        "print (\"The area of the circle with radius \" + str(arooj) + \" is: \" + str(pi * arooj**2))"
      ],
      "execution_count": null,
      "outputs": [
        {
          "output_type": "stream",
          "text": [
            "Input the radius of the circle : 10\n",
            "The area of the circle with radius 10.0 is: 314.1592653589793\n"
          ],
          "name": "stdout"
        }
      ]
    },
    {
      "cell_type": "code",
      "metadata": {
        "colab": {
          "base_uri": "https://localhost:8080/"
        },
        "id": "HjDniz8of9_r",
        "outputId": "5cf9ea43-dc11-4783-93aa-96b278d0318c"
      },
      "source": [
        " \n",
        "Arooj = input(\"Input some comma numbers : \")\n",
        "list = Arooj.split(\",\")\n",
        "tuple = tuple(list)\n",
        "print('List : ',list)\n",
        "print('Tuple : ',tuple)"
      ],
      "execution_count": null,
      "outputs": [
        {
          "output_type": "stream",
          "text": [
            "Input some comma numbers : 6,8,9\n",
            "List :  ['6', '8', '9']\n",
            "Tuple :  ('6', '8', '9')\n"
          ],
          "name": "stdout"
        }
      ]
    },
    {
      "cell_type": "code",
      "metadata": {
        "colab": {
          "base_uri": "https://localhost:8080/"
        },
        "id": "lRsVTlt2gJcO",
        "outputId": "df839645-8261-4f93-a80a-85ad429bd72f"
      },
      "source": [
        " \n",
        "def test_distinct(data):\n",
        "  if len(data) == len(set(data)):\n",
        "    return True\n",
        "  else:\n",
        "    return False;\n",
        "print(test_distinct([1,5,7,9]))\n",
        "print(test_distinct([2,4,5,5,7,9]))"
      ],
      "execution_count": null,
      "outputs": [
        {
          "output_type": "stream",
          "text": [
            "True\n",
            "False\n"
          ],
          "name": "stdout"
        }
      ]
    },
    {
      "cell_type": "code",
      "metadata": {
        "colab": {
          "base_uri": "https://localhost:8080/"
        },
        "id": "TBvWLg7mgVET",
        "outputId": "efc7f77a-cc8b-4e14-a976-d287dfe3bee8"
      },
      "source": [
        " \n",
        "def remove_nums(int_list):\n",
        "  #list starts with 0 index\n",
        "  position = 3 - 1 \n",
        "  idx = 0\n",
        "  len_list = (len(int_list))\n",
        "  while len_list>0:\n",
        "    idx = (position+idx)%len_list\n",
        "    print(int_list.pop(idx))\n",
        "    len_list -= 1\n",
        "nums = [10,20,30,40,70]\n",
        "remove_nums(nums)"
      ],
      "execution_count": null,
      "outputs": [
        {
          "output_type": "stream",
          "text": [
            "30\n",
            "10\n",
            "70\n",
            "20\n",
            "40\n"
          ],
          "name": "stdout"
        }
      ]
    }
  ]
}